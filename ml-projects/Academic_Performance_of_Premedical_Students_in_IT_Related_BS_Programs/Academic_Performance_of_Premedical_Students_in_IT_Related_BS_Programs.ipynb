{
  "nbformat": 4,
  "nbformat_minor": 0,
  "metadata": {
    "colab": {
      "provenance": [],
      "authorship_tag": "ABX9TyOjk4LtHyv76PJ7561Rb4jj",
      "include_colab_link": true
    },
    "kernelspec": {
      "name": "python3",
      "display_name": "Python 3"
    },
    "language_info": {
      "name": "python"
    }
  },
  "cells": [
    {
      "cell_type": "markdown",
      "metadata": {
        "id": "view-in-github",
        "colab_type": "text"
      },
      "source": [
        "<a href=\"https://colab.research.google.com/github/wasif-itu/ML_Journey/blob/main/ml-projects/Academic_Performance_of_Premedical_Students_in_IT_Related_BS_Programs/Academic_Performance_of_Premedical_Students_in_IT_Related_BS_Programs.ipynb\" target=\"_parent\"><img src=\"https://colab.research.google.com/assets/colab-badge.svg\" alt=\"Open In Colab\"/></a>"
      ]
    },
    {
      "cell_type": "code",
      "execution_count": null,
      "metadata": {
        "id": "WEDZhhsofHlb"
      },
      "outputs": [],
      "source": []
    }
  ]
}